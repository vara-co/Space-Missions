{
 "cells": [
  {
   "cell_type": "code",
   "execution_count": 1,
   "id": "26de4385",
   "metadata": {},
   "outputs": [],
   "source": [
    "# Bring in the Dependencies\n",
    "import pandas as pd\n",
    "import numpy as np\n",
    "from unidecode import unidecode\n",
    "import matplotlib.pyplot as plt\n"
   ]
  },
  {
   "cell_type": "code",
   "execution_count": 2,
   "id": "daf00822",
   "metadata": {},
   "outputs": [],
   "source": [
    "file_path = \"Resources/SpaceMission_Merged.csv\"\n",
    "encoding =  \"ISO-8859-1\"\n",
    "day_night_df = pd.read_csv(file_path, encoding=encoding)\n"
   ]
  },
  {
   "cell_type": "code",
   "execution_count": 23,
   "id": "74dbcaf8",
   "metadata": {
    "scrolled": false
   },
   "outputs": [
    {
     "data": {
      "text/html": [
       "<div>\n",
       "<style scoped>\n",
       "    .dataframe tbody tr th:only-of-type {\n",
       "        vertical-align: middle;\n",
       "    }\n",
       "\n",
       "    .dataframe tbody tr th {\n",
       "        vertical-align: top;\n",
       "    }\n",
       "\n",
       "    .dataframe thead th {\n",
       "        text-align: right;\n",
       "    }\n",
       "</style>\n",
       "<table border=\"1\" class=\"dataframe\">\n",
       "  <thead>\n",
       "    <tr style=\"text-align: right;\">\n",
       "      <th></th>\n",
       "      <th>Company</th>\n",
       "      <th>Date</th>\n",
       "      <th>Time</th>\n",
       "      <th>Rocket</th>\n",
       "      <th>Mission</th>\n",
       "      <th>RocketStatus</th>\n",
       "      <th>MissionStatus</th>\n",
       "      <th>Day/Night Launch</th>\n",
       "      <th>Complex ID</th>\n",
       "      <th>Launch Site</th>\n",
       "      <th>Territory</th>\n",
       "      <th>Country</th>\n",
       "    </tr>\n",
       "  </thead>\n",
       "  <tbody>\n",
       "    <tr>\n",
       "      <th>0</th>\n",
       "      <td>US Navy</td>\n",
       "      <td>1957-12-06</td>\n",
       "      <td>16:44:00</td>\n",
       "      <td>Vanguard</td>\n",
       "      <td>Vanguard TV3</td>\n",
       "      <td>Retired</td>\n",
       "      <td>Failure</td>\n",
       "      <td>Day</td>\n",
       "      <td>LC-18A</td>\n",
       "      <td>Cape Canaveral AFS</td>\n",
       "      <td>Florida</td>\n",
       "      <td>USA</td>\n",
       "    </tr>\n",
       "    <tr>\n",
       "      <th>1</th>\n",
       "      <td>AMBA</td>\n",
       "      <td>1958-02-01</td>\n",
       "      <td>03:48:00</td>\n",
       "      <td>Juno I</td>\n",
       "      <td>Explorer 1</td>\n",
       "      <td>Retired</td>\n",
       "      <td>Success</td>\n",
       "      <td>Night</td>\n",
       "      <td>LC-26A</td>\n",
       "      <td>Cape Canaveral AFS</td>\n",
       "      <td>Florida</td>\n",
       "      <td>USA</td>\n",
       "    </tr>\n",
       "    <tr>\n",
       "      <th>2</th>\n",
       "      <td>US Navy</td>\n",
       "      <td>1958-02-05</td>\n",
       "      <td>07:33:00</td>\n",
       "      <td>Vanguard</td>\n",
       "      <td>Vanguard TV3BU</td>\n",
       "      <td>Retired</td>\n",
       "      <td>Failure</td>\n",
       "      <td>Day</td>\n",
       "      <td>LC-18A</td>\n",
       "      <td>Cape Canaveral AFS</td>\n",
       "      <td>Florida</td>\n",
       "      <td>USA</td>\n",
       "    </tr>\n",
       "    <tr>\n",
       "      <th>3</th>\n",
       "      <td>AMBA</td>\n",
       "      <td>1958-03-05</td>\n",
       "      <td>18:27:00</td>\n",
       "      <td>Juno I</td>\n",
       "      <td>Explorer 2</td>\n",
       "      <td>Retired</td>\n",
       "      <td>Failure</td>\n",
       "      <td>Night</td>\n",
       "      <td>LC-26A</td>\n",
       "      <td>Cape Canaveral AFS</td>\n",
       "      <td>Florida</td>\n",
       "      <td>USA</td>\n",
       "    </tr>\n",
       "    <tr>\n",
       "      <th>4</th>\n",
       "      <td>US Navy</td>\n",
       "      <td>1958-03-17</td>\n",
       "      <td>12:15:00</td>\n",
       "      <td>Vanguard</td>\n",
       "      <td>Vanguard 1</td>\n",
       "      <td>Retired</td>\n",
       "      <td>Success</td>\n",
       "      <td>Day</td>\n",
       "      <td>LC-18A</td>\n",
       "      <td>Cape Canaveral AFS</td>\n",
       "      <td>Florida</td>\n",
       "      <td>USA</td>\n",
       "    </tr>\n",
       "  </tbody>\n",
       "</table>\n",
       "</div>"
      ],
      "text/plain": [
       "   Company        Date      Time    Rocket         Mission RocketStatus  \\\n",
       "0  US Navy  1957-12-06  16:44:00  Vanguard    Vanguard TV3      Retired   \n",
       "1     AMBA  1958-02-01  03:48:00    Juno I      Explorer 1      Retired   \n",
       "2  US Navy  1958-02-05  07:33:00  Vanguard  Vanguard TV3BU      Retired   \n",
       "3     AMBA  1958-03-05  18:27:00    Juno I      Explorer 2      Retired   \n",
       "4  US Navy  1958-03-17  12:15:00  Vanguard      Vanguard 1      Retired   \n",
       "\n",
       "  MissionStatus Day/Night Launch Complex ID         Launch Site Territory  \\\n",
       "0       Failure              Day     LC-18A  Cape Canaveral AFS   Florida   \n",
       "1       Success            Night     LC-26A  Cape Canaveral AFS   Florida   \n",
       "2       Failure              Day     LC-18A  Cape Canaveral AFS   Florida   \n",
       "3       Failure            Night     LC-26A  Cape Canaveral AFS   Florida   \n",
       "4       Success              Day     LC-18A  Cape Canaveral AFS   Florida   \n",
       "\n",
       "  Country  \n",
       "0     USA  \n",
       "1     USA  \n",
       "2     USA  \n",
       "3     USA  \n",
       "4     USA  "
      ]
     },
     "execution_count": 23,
     "metadata": {},
     "output_type": "execute_result"
    }
   ],
   "source": [
    "# Show the DataFrame\n",
    "day_night_df.head()\n",
    "\n"
   ]
  },
  {
   "cell_type": "code",
   "execution_count": 4,
   "id": "ee8c54cd",
   "metadata": {},
   "outputs": [],
   "source": [
    "# Count the Day and Night totals for your Data Frame\n",
    "day_night_totals = day_night_df['Day/Night Launch'].value_counts()\n"
   ]
  },
  {
   "cell_type": "code",
   "execution_count": 5,
   "id": "d7688caf",
   "metadata": {},
   "outputs": [
    {
     "name": "stdout",
     "output_type": "stream",
     "text": [
      "Day/Night Launch\n",
      "Day      2418\n",
      "Night    2085\n",
      "Name: count, dtype: int64\n"
     ]
    }
   ],
   "source": [
    "# Show the totals\n",
    "print(day_night_totals)\n"
   ]
  },
  {
   "cell_type": "code",
   "execution_count": 6,
   "id": "9db91dfa",
   "metadata": {
    "scrolled": true
   },
   "outputs": [],
   "source": [
    "# Filter missions for Day launches\n",
    "day_launches = day_night_df[day_night_df['Day/Night Launch'] == 'Day']\n"
   ]
  },
  {
   "cell_type": "code",
   "execution_count": 7,
   "id": "05d255a3",
   "metadata": {},
   "outputs": [
    {
     "data": {
      "text/plain": [
       "2177"
      ]
     },
     "execution_count": 7,
     "metadata": {},
     "output_type": "execute_result"
    }
   ],
   "source": [
    "# Show the Day Success total\n",
    "day_success_total = day_launches[day_launches['MissionStatus'] == 'Success'].shape[0]\n",
    "day_success_total\n"
   ]
  },
  {
   "cell_type": "code",
   "execution_count": 8,
   "id": "fcb4acec",
   "metadata": {},
   "outputs": [
    {
     "data": {
      "text/plain": [
       "175"
      ]
     },
     "execution_count": 8,
     "metadata": {},
     "output_type": "execute_result"
    }
   ],
   "source": [
    "# Show the Day Failure total\n",
    "day_failure_total = day_launches[day_launches['MissionStatus'] == 'Failure'].shape[0]\n",
    "day_failure_total\n"
   ]
  },
  {
   "cell_type": "code",
   "execution_count": 9,
   "id": "6ed6c393",
   "metadata": {},
   "outputs": [
    {
     "data": {
      "text/plain": [
       "2352"
      ]
     },
     "execution_count": 9,
     "metadata": {},
     "output_type": "execute_result"
    }
   ],
   "source": [
    "# Calculate the total of Day Launches\n",
    "total_day_launches = day_success_total + day_failure_total\n",
    "total_day_launches\n"
   ]
  },
  {
   "cell_type": "code",
   "execution_count": 10,
   "id": "885fff1f",
   "metadata": {},
   "outputs": [],
   "source": [
    "# Calculate the success and failure percentages for Day launches\n",
    "day_success_percentage = (day_success_total / total_day_launches) * 100\n",
    "day_failure_percentage = (day_failure_total / total_day_launches) * 100\n"
   ]
  },
  {
   "cell_type": "code",
   "execution_count": 11,
   "id": "8afd5c0b",
   "metadata": {},
   "outputs": [],
   "source": [
    "# Filter missions for Night launches\n",
    "night_launches = day_night_df[day_night_df['Day/Night Launch'] == 'Night']\n"
   ]
  },
  {
   "cell_type": "code",
   "execution_count": 12,
   "id": "65bfc765",
   "metadata": {},
   "outputs": [
    {
     "data": {
      "text/plain": [
       "1899"
      ]
     },
     "execution_count": 12,
     "metadata": {},
     "output_type": "execute_result"
    }
   ],
   "source": [
    "# Show the Night Success total\n",
    "night_success_total = night_launches[night_launches['MissionStatus'] == 'Success'].shape[0]\n",
    "night_success_total\n"
   ]
  },
  {
   "cell_type": "code",
   "execution_count": 13,
   "id": "b344c120",
   "metadata": {},
   "outputs": [
    {
     "data": {
      "text/plain": [
       "143"
      ]
     },
     "execution_count": 13,
     "metadata": {},
     "output_type": "execute_result"
    }
   ],
   "source": [
    "# Show the Night Failure total\n",
    "night_failure_total = night_launches[night_launches['MissionStatus'] == 'Failure'].shape[0]\n",
    "night_failure_total\n"
   ]
  },
  {
   "cell_type": "code",
   "execution_count": 14,
   "id": "0f4bb72e",
   "metadata": {},
   "outputs": [
    {
     "data": {
      "text/plain": [
       "2042"
      ]
     },
     "execution_count": 14,
     "metadata": {},
     "output_type": "execute_result"
    }
   ],
   "source": [
    "# Calculate the total of Night Launches\n",
    "total_night_launches = night_success_total + night_failure_total\n",
    "total_night_launches\n"
   ]
  },
  {
   "cell_type": "code",
   "execution_count": 15,
   "id": "242a910d",
   "metadata": {},
   "outputs": [],
   "source": [
    "# Calculate the success and failure percentages for Night launches\n",
    "night_success_percentage = (night_success_total / total_night_launches) * 100\n",
    "night_failure_percentage = (night_failure_total / total_night_launches) * 100\n"
   ]
  },
  {
   "cell_type": "code",
   "execution_count": 16,
   "id": "4159d768",
   "metadata": {},
   "outputs": [
    {
     "name": "stdout",
     "output_type": "stream",
     "text": [
      "Day Launches:\n",
      "Success: 2177 ( 92.56 % )\n",
      "Failure: 175 ( 7.44 % )\n",
      "\n",
      "Night Launches:\n",
      "Success: 1899 ( 93.0 % )\n",
      "Failure: 143 ( 7.0 % )\n"
     ]
    }
   ],
   "source": [
    "# Print out the findings\n",
    "print(\"Day Launches:\")\n",
    "print(\"Success:\", day_success_total, \"(\", round(day_success_percentage, 2), \"% )\")\n",
    "print(\"Failure:\", day_failure_total, \"(\", round(day_failure_percentage, 2), \"% )\")\n",
    "print(\"\\nNight Launches:\")\n",
    "print(\"Success:\", night_success_total, \"(\", round(night_success_percentage, 2), \"% )\")\n",
    "print(\"Failure:\", night_failure_total, \"(\", round(night_failure_percentage, 2), \"% )\")\n"
   ]
  },
  {
   "cell_type": "code",
   "execution_count": 17,
   "id": "f928bddd",
   "metadata": {},
   "outputs": [
    {
     "name": "stdout",
     "output_type": "stream",
     "text": [
      "        Company        Date      Time         Rocket                  Mission  \\\n",
      "0       US Navy  1957-12-06  16:44:00       Vanguard             Vanguard TV3   \n",
      "1          AMBA  1958-02-01  03:48:00         Juno I               Explorer 1   \n",
      "2       US Navy  1958-02-05  07:33:00       Vanguard           Vanguard TV3BU   \n",
      "3          AMBA  1958-03-05  18:27:00         Juno I               Explorer 2   \n",
      "4       US Navy  1958-03-17  12:15:00       Vanguard               Vanguard 1   \n",
      "...         ...         ...       ...            ...                      ...   \n",
      "4625        ESA  2022-07-13  13:13:00         Vega C       LARES 2 & Cubesats   \n",
      "4626       CASC  2022-07-15  22:57:00  Long March 2C  SuperView Neo 2-01 & 02   \n",
      "4627       CASC  2022-07-24  06:22:00  Long March 5B                  Wentian   \n",
      "4628  CAS Space  2022-07-27  04:12:00     Zhongke-1A              Demo Flight   \n",
      "4629       CASC  2022-07-29  13:28:00  Long March 2D       Yaogan 35 Group 03   \n",
      "\n",
      "     RocketStatus MissionStatus Day/Night Launch Complex ID  \\\n",
      "0         Retired       Failure              Day     LC-18A   \n",
      "1         Retired       Success            Night     LC-26A   \n",
      "2         Retired       Failure              Day     LC-18A   \n",
      "3         Retired       Failure            Night     LC-26A   \n",
      "4         Retired       Success              Day     LC-18A   \n",
      "...           ...           ...              ...        ...   \n",
      "4625       Active       Success              Day      ELV-1   \n",
      "4626       Active       Success            Night       LC-9   \n",
      "4627       Active       Success              Day     LC-101   \n",
      "4628       Active       Success            Night              \n",
      "4629       Active       Success              Day       LC-3   \n",
      "\n",
      "                              Launch Site Territory Country  \n",
      "0                      Cape Canaveral AFS   Florida     USA  \n",
      "1                      Cape Canaveral AFS   Florida     USA  \n",
      "2                      Cape Canaveral AFS   Florida     USA  \n",
      "3                      Cape Canaveral AFS   Florida     USA  \n",
      "4                      Cape Canaveral AFS   Florida     USA  \n",
      "...                                   ...       ...     ...  \n",
      "4625  Guiana Space Centre - French Guiana       NaN  France  \n",
      "4626      Taiyuan Satellite Launch Center       NaN   China  \n",
      "4627     Wenchang Satellite Launch Center       NaN   China  \n",
      "4628      Jiuquan Satellite Launch Center       NaN   China  \n",
      "4629      Xichang Satellite Launch Center       NaN   China  \n",
      "\n",
      "[4630 rows x 12 columns]\n"
     ]
    }
   ],
   "source": [
    "# load dataset \n",
    "file_path = \"Resources/SpaceMission_Merged.csv\"\n",
    "encoding =  \"ISO-8859-1\"\n",
    "day_night_df = pd.read_csv(file_path, encoding=encoding)\n",
    "print(day_night_df)\n"
   ]
  },
  {
   "cell_type": "code",
   "execution_count": 26,
   "id": "d617d65f",
   "metadata": {
    "scrolled": true
   },
   "outputs": [
    {
     "data": {
      "image/png": "[encoded data removed]",
      "text/plain": [
       "<Figure size 640x480 with 1 Axes>"
      ]
     },
     "metadata": {},
     "output_type": "display_data"
    }
   ],
   "source": [
    "x = ['Day Launches', 'Night Launches']\n",
    "y1 = np.array([92.56, 93.0])\n",
    "y2 = np.array([7.44, 7.0])\n",
    "\n",
    " \n",
    "# plot bars in stack manner\n",
    "plt.bar(x, y1, color='r')\n",
    "plt.bar(x, y2, bottom=y1, color='b')\n",
    "\n",
    "plt.xlabel(\"Launch Times\")\n",
    "plt.ylabel(\"Percentages\")\n",
    "plt.legend([\"Successful Launches\", \"Failure Launches\"])\n",
    "plt.title(\"Day and Night Launch Successes\")\n",
    "\n",
    "plt.savefig(\"output_folder/day_night_launches.png\")\n",
    "\n",
    "plt.show()"
   ]
  },
  {
   "cell_type": "code",
   "execution_count": null,
   "id": "7c2a8757",
   "metadata": {},
   "outputs": [],
   "source": []
  },
  {
   "cell_type": "code",
   "execution_count": null,
   "id": "d69b30ab",
   "metadata": {},
   "outputs": [],
   "source": []
  }
 ],
 "metadata": {
  "kernelspec": {
   "display_name": "Python 3 (ipykernel)",
   "language": "python",
   "name": "python3"
  },
  "language_info": {
   "codemirror_mode": {
    "name": "ipython",
    "version": 3
   },
   "file_extension": ".py",
   "mimetype": "text/x-python",
   "name": "python",
   "nbconvert_exporter": "python",
   "pygments_lexer": "ipython3",
   "version": "3.10.13"
  }
 },
 "nbformat": 4,
 "nbformat_minor": 5
}
